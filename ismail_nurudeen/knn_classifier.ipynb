{
 "cells": [
  {
   "cell_type": "code",
   "execution_count": 36,
   "id": "e1b89bac",
   "metadata": {},
   "outputs": [
    {
     "data": {
      "text/plain": [
       "[1]"
      ]
     },
     "execution_count": 36,
     "metadata": {},
     "output_type": "execute_result"
    }
   ],
   "source": [
    "import numpy as np\n",
    "import operator\n",
    "\n",
    "# calculate euclidean distance\n",
    "def euc_dist(x1, x2):\n",
    "    return np.sqrt(np.sum((x1-x2)**2))\n",
    "\n",
    "class KNN():\n",
    "    \n",
    "    def __init__(self, K = 3):\n",
    "        if(K < 1):\n",
    "            raise Exception('K must be grater than 0')\n",
    "        self.K = K\n",
    "\n",
    "    def fit(self, x_train, y_train):\n",
    "        self.X_train = x_train\n",
    "        self.y_train = y_train\n",
    "\n",
    "    def predict(self, X_test):\n",
    "        \n",
    "        # list to store all our predictions\n",
    "        predictions = []\n",
    "        \n",
    "        # loop over all observations\n",
    "        for i in range(len(X_test)):            \n",
    "            \n",
    "            # calculate the distance between the test point and all other points in the training set\n",
    "            dist = np.array([euc_dist(X_test[i], x) for x in self.X_train])\n",
    "            \n",
    "            # sort the distances and return the positions of the first K neighbors\n",
    "            dist_sorted = dist.argsort()[:self.K]\n",
    "            \n",
    "            neighbor_votes = {}\n",
    "\n",
    "            # for each neighbor find the class and return the most voted.\n",
    "            for d in dist_sorted:\n",
    "                if self.y_train[d] in neighbor_votes:\n",
    "                    neighbor_votes[self.y_train[d]] += 1\n",
    "                else:\n",
    "                    neighbor_votes[self.y_train[d]] = 1\n",
    "            \n",
    "            # get the most common class label \n",
    "            sorted_neighbors = sorted(neighbor_votes.items(), key=operator.itemgetter(1), reverse=True)\n",
    "            \n",
    "            predictions.append(sorted_neighbors[0][0])\n",
    "        return predictions"
   ]
  },
  {
   "cell_type": "code",
   "execution_count": null,
   "id": "02b69260",
   "metadata": {},
   "outputs": [],
   "source": []
  }
 ],
 "metadata": {
  "kernelspec": {
   "display_name": "Python 3",
   "language": "python",
   "name": "python3"
  },
  "language_info": {
   "codemirror_mode": {
    "name": "ipython",
    "version": 3
   },
   "file_extension": ".py",
   "mimetype": "text/x-python",
   "name": "python",
   "nbconvert_exporter": "python",
   "pygments_lexer": "ipython3",
   "version": "3.8.8"
  }
 },
 "nbformat": 4,
 "nbformat_minor": 5
}
